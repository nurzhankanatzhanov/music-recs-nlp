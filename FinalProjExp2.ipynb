{
  "nbformat": 4,
  "nbformat_minor": 0,
  "metadata": {
    "colab": {
      "name": "FinalProjExp2.ipynb",
      "provenance": []
    },
    "kernelspec": {
      "name": "python3",
      "display_name": "Python 3"
    },
    "language_info": {
      "name": "python"
    }
  },
  "cells": [
    {
      "cell_type": "markdown",
      "metadata": {
        "id": "1pPHRxXObKE5"
      },
      "source": [
        "# Experiement 2\n"
      ]
    },
    {
      "cell_type": "markdown",
      "metadata": {
        "id": "YbdIV_-QbKE_"
      },
      "source": [
        "### Imports"
      ]
    },
    {
      "cell_type": "code",
      "execution_count": 1,
      "metadata": {
        "id": "XRxnSQkFbKE_"
      },
      "outputs": [],
      "source": [
        "import math, re\n",
        "import glob, os\n",
        "\n",
        "import matplotlib.pyplot as plt \n",
        "\n",
        "from sklearn.decomposition import TruncatedSVD\n",
        "from sklearn.feature_extraction.text import TfidfVectorizer\n",
        "from sklearn.feature_extraction.text import HashingVectorizer\n",
        "from sklearn.feature_extraction.text import TfidfTransformer\n",
        "from sklearn.pipeline import make_pipeline\n",
        "from sklearn.preprocessing import Normalizer\n",
        "\n",
        "from sklearn.cluster import MiniBatchKMeans\n",
        "from sklearn.mixture import GaussianMixture\n",
        "\n",
        "from sklearn import metrics\n",
        "\n",
        "# import logging\n",
        "# from optparse import OptionParser\n",
        "# import sys\n",
        "# from time import time\n",
        "\n",
        "\n",
        "# import pandas as pd\n",
        "# from collections import Counter\n",
        "\n",
        "# def tokenize(s):\n",
        "#     \"\"\"\n",
        "#     Input: \n",
        "#         string s\n",
        "#     Output: \n",
        "#         list of strings\n",
        "#     \"\"\"\n",
        "#     return s.split()\n",
        "\n",
        "# def preprocess(s, lowercase=True, strip_punctuation=True):\n",
        "#     \"\"\"\n",
        "#     Input:\n",
        "#         string s\n",
        "#         boolean lowercase\n",
        "#         boolean strip_punctuation\n",
        "#     Return:\n",
        "#         list of strings\n",
        "#     \"\"\"\n",
        "#     punctuation = '.,?<>:;\"\\'!%'\n",
        "#     if isinstance(s, str):\n",
        "#         s = tokenize(s)\n",
        "#     if lowercase:\n",
        "#         s = [t.lower() for t in s]\n",
        "#     if strip_punctuation:\n",
        "#         s = [t.strip(punctuation) for t in s]\n",
        "        \n",
        "#     return s\n",
        "\n",
        "# def token_frequency(tokens=None, tf={}, relative=False):\n",
        "#     \"\"\"\n",
        "#     Input:\n",
        "#         tokens = list of strings or None\n",
        "#         tf = dict or None\n",
        "#         relative = boolean\n",
        "#     Return:\n",
        "#         dictionary of token frequencies\n",
        "#     \"\"\"\n",
        "#     for t in tokens:\n",
        "#         if t in tf:\n",
        "#             tf[t]+=1\n",
        "#         else:\n",
        "#             tf[t]=1\n",
        "#     if relative:\n",
        "#         total = sum([c for t, c in tf.items()])\n",
        "#         tf = {t:tf[t]/total for t in tf}\n",
        "#     return tf"
      ]
    },
    {
      "cell_type": "markdown",
      "source": [
        "###For google colab, Import drive"
      ],
      "metadata": {
        "id": "hy3ydC-SUcOg"
      }
    },
    {
      "cell_type": "code",
      "source": [
        "from google.colab import drive\n",
        "drive.mount('/content/gdrive')"
      ],
      "metadata": {
        "colab": {
          "base_uri": "https://localhost:8080/"
        },
        "id": "SeMvGR8ddLpx",
        "outputId": "580a6330-d67a-423d-d6d8-e1729162e3ac"
      },
      "execution_count": 2,
      "outputs": [
        {
          "output_type": "stream",
          "name": "stdout",
          "text": [
            "Mounted at /content/gdrive\n"
          ]
        }
      ]
    },
    {
      "cell_type": "markdown",
      "metadata": {
        "id": "kImxsufKbKFB"
      },
      "source": [
        "### using ```glob``` module to retrieve files/pathnames of all .txt files (credit to [AZLyrics](https://azlyrics.com) for the lyrics of the artists)"
      ]
    },
    {
      "cell_type": "code",
      "execution_count": 3,
      "metadata": {
        "id": "OMaM_C24bKFF"
      },
      "outputs": [],
      "source": [
        "path = '/content/gdrive/My Drive/all_albums_together/*.txt'\n",
        "filenames = glob.glob(path)\n",
        "\n",
        "tData = [] #2D list with text data, level 1: albums, level 2: words\n",
        "tDataNames = []#album names\n",
        "\n",
        "for fn in filenames: #populate album names\n",
        "    print\n",
        "    tDataNames.append(os.path.split(fn[45:])[1][:-4].replace('_', ' ').title())\n",
        "    s = open(fn, 'r').read()\n",
        "    tData.append(s)"
      ]
    },
    {
      "cell_type": "markdown",
      "source": [
        "###TFIFD and Hashing Vectorizer Function\n"
      ],
      "metadata": {
        "id": "tmGT7nB7kVUT"
      }
    },
    {
      "cell_type": "code",
      "source": [
        "def getVectorizer(featuresExtracted):\n",
        "  hasher = HashingVectorizer(\n",
        "      n_features=featuresExtracted,\n",
        "      stop_words=\"english\",\n",
        "      alternate_sign=False,\n",
        "      norm=None,\n",
        "  )\n",
        "  return make_pipeline(hasher, TfidfTransformer())"
      ],
      "metadata": {
        "id": "WkRGKQCnCDvr"
      },
      "execution_count": 4,
      "outputs": []
    },
    {
      "cell_type": "markdown",
      "source": [
        "###LSA Intialization"
      ],
      "metadata": {
        "id": "uxUmEsnWlJfa"
      }
    },
    {
      "cell_type": "code",
      "source": [
        "svd = TruncatedSVD(random_state=0)\n",
        "normalizer = Normalizer(copy=False)\n",
        "lsa = make_pipeline(svd, normalizer)"
      ],
      "metadata": {
        "id": "wy4iMn5Rk_uG"
      },
      "execution_count": 5,
      "outputs": []
    },
    {
      "cell_type": "markdown",
      "source": [
        "##Trying and Plotting Different Clustering Models"
      ],
      "metadata": {
        "id": "1JOMuuptrhhx"
      }
    },
    {
      "cell_type": "code",
      "source": [
        "#Creating a dictionary matching albums to their clusters\n",
        "def createDict(labels):\n",
        "  labelDictAlt = {}\n",
        "  for m_l, l in zip(labels, tDataNames):\n",
        "      curr = labelDictAlt.get(m_l, [])\n",
        "      curr.append(l)\n",
        "      labelDictAlt[m_l] = curr\n",
        "  return labelDictAlt"
      ],
      "metadata": {
        "id": "DG7Dg9lMswlV"
      },
      "execution_count": 6,
      "outputs": []
    },
    {
      "cell_type": "markdown",
      "source": [
        "###K Means Mini Batch"
      ],
      "metadata": {
        "id": "6yNZSp33rpBE"
      }
    },
    {
      "cell_type": "code",
      "source": [
        "#Tuning Parameters\n",
        "sDict = {}\n",
        "for i in [200,400,600,800,1000,2000,4000,6000,8000,10000,20000,40000,60000,80000,100000]:\n",
        "  vectorizer = getVectorizer(i)\n",
        "  sparseMatrix = vectorizer.fit_transform(tData)\n",
        "  processedData = lsa.fit_transform(sparseMatrix)\n",
        "  for j in [4,5,6,7,8,9,10,11,12,13,14,15]:\n",
        "    kmb = MiniBatchKMeans(n_clusters=j, random_state = 0)\n",
        "    kmb.fit(processedData)\n",
        "    sDict[(i,j)] = metrics.silhouette_score(processedData, kmb.labels_, metric = \"euclidean\")\n",
        "\n",
        "print(max(list(sDict.values()))) # best results were 400 features extracted and 11 categories\n",
        "sDict\n"
      ],
      "metadata": {
        "colab": {
          "base_uri": "https://localhost:8080/"
        },
        "id": "MwUI_m4xlAzo",
        "outputId": "8febea96-5abe-4ffe-dcb4-19e0e68f55b7"
      },
      "execution_count": 7,
      "outputs": [
        {
          "output_type": "stream",
          "name": "stdout",
          "text": [
            "0.6841600299286869\n"
          ]
        },
        {
          "output_type": "execute_result",
          "data": {
            "text/plain": [
              "{(200, 4): 0.6329339281869388,\n",
              " (200, 5): 0.5936049337972976,\n",
              " (200, 6): 0.5886786189094849,\n",
              " (200, 7): 0.6105861651655903,\n",
              " (200, 8): 0.5737120968146284,\n",
              " (200, 9): 0.5972605077684334,\n",
              " (200, 10): 0.6352125955127187,\n",
              " (200, 11): 0.5828126619198705,\n",
              " (200, 12): 0.6090282639040061,\n",
              " (200, 13): 0.6317263589081425,\n",
              " (200, 14): 0.6439404769359003,\n",
              " (200, 15): 0.6199860384712715,\n",
              " (400, 4): 0.6461248901657377,\n",
              " (400, 5): 0.5944487934315611,\n",
              " (400, 6): 0.6022503806892575,\n",
              " (400, 7): 0.6208247977909979,\n",
              " (400, 8): 0.590333410195163,\n",
              " (400, 9): 0.6123677868032075,\n",
              " (400, 10): 0.6444669699772066,\n",
              " (400, 11): 0.6841600299286869,\n",
              " (400, 12): 0.6610946907250108,\n",
              " (400, 13): 0.6096057012628451,\n",
              " (400, 14): 0.6470190060039047,\n",
              " (400, 15): 0.6374891984140099,\n",
              " (600, 4): 0.628851008139606,\n",
              " (600, 5): 0.5830367520076288,\n",
              " (600, 6): 0.6262702164144711,\n",
              " (600, 7): 0.6105337502848911,\n",
              " (600, 8): 0.5801047639245521,\n",
              " (600, 9): 0.6541937587555274,\n",
              " (600, 10): 0.6520654387097116,\n",
              " (600, 11): 0.6085318403328286,\n",
              " (600, 12): 0.5815386631892621,\n",
              " (600, 13): 0.6251511346636377,\n",
              " (600, 14): 0.637403763029364,\n",
              " (600, 15): 0.5991119868516293,\n",
              " (800, 4): 0.6313965479061754,\n",
              " (800, 5): 0.5978912353981412,\n",
              " (800, 6): 0.6119228611147289,\n",
              " (800, 7): 0.6391557092760984,\n",
              " (800, 8): 0.5956568286327591,\n",
              " (800, 9): 0.6575489764222674,\n",
              " (800, 10): 0.6332715985901269,\n",
              " (800, 11): 0.6331054933937094,\n",
              " (800, 12): 0.579837381175123,\n",
              " (800, 13): 0.589573579942004,\n",
              " (800, 14): 0.6277170375638168,\n",
              " (800, 15): 0.5849614255660066,\n",
              " (1000, 4): 0.6215356982899368,\n",
              " (1000, 5): 0.5745965808758996,\n",
              " (1000, 6): 0.6362057631190134,\n",
              " (1000, 7): 0.6147601425146227,\n",
              " (1000, 8): 0.6064324198760092,\n",
              " (1000, 9): 0.6037567454168017,\n",
              " (1000, 10): 0.5978936533920352,\n",
              " (1000, 11): 0.6108671197456538,\n",
              " (1000, 12): 0.6212451452529181,\n",
              " (1000, 13): 0.6191134605176555,\n",
              " (1000, 14): 0.6465265746566692,\n",
              " (1000, 15): 0.6383166887828619,\n",
              " (2000, 4): 0.6667860363013318,\n",
              " (2000, 5): 0.5887956088342705,\n",
              " (2000, 6): 0.6557661622184803,\n",
              " (2000, 7): 0.649204842650447,\n",
              " (2000, 8): 0.6581339552926965,\n",
              " (2000, 9): 0.6144347514864714,\n",
              " (2000, 10): 0.6553003573332322,\n",
              " (2000, 11): 0.6653628497096242,\n",
              " (2000, 12): 0.6212485093221247,\n",
              " (2000, 13): 0.5938929920408985,\n",
              " (2000, 14): 0.6274350940158203,\n",
              " (2000, 15): 0.6386893429502566,\n",
              " (4000, 4): 0.6526831862259516,\n",
              " (4000, 5): 0.6768324649695328,\n",
              " (4000, 6): 0.6724544629473993,\n",
              " (4000, 7): 0.6480276273849508,\n",
              " (4000, 8): 0.6205488092567397,\n",
              " (4000, 9): 0.6299095483561447,\n",
              " (4000, 10): 0.6358300541602673,\n",
              " (4000, 11): 0.637394447147537,\n",
              " (4000, 12): 0.623032781481077,\n",
              " (4000, 13): 0.6060180965655618,\n",
              " (4000, 14): 0.6191777443253107,\n",
              " (4000, 15): 0.6209012977051522,\n",
              " (6000, 4): 0.6372393025941873,\n",
              " (6000, 5): 0.6726541158310679,\n",
              " (6000, 6): 0.6761535869291064,\n",
              " (6000, 7): 0.6469000672133763,\n",
              " (6000, 8): 0.5990555445627215,\n",
              " (6000, 9): 0.575353970738914,\n",
              " (6000, 10): 0.616936393711569,\n",
              " (6000, 11): 0.6175942659946122,\n",
              " (6000, 12): 0.5679838451390179,\n",
              " (6000, 13): 0.5780257562363487,\n",
              " (6000, 14): 0.6224002657242077,\n",
              " (6000, 15): 0.5898224863374609,\n",
              " (8000, 4): 0.64832046946325,\n",
              " (8000, 5): 0.6062388096237787,\n",
              " (8000, 6): 0.6281212331826416,\n",
              " (8000, 7): 0.5974569722186095,\n",
              " (8000, 8): 0.5766547801715243,\n",
              " (8000, 9): 0.6212621216479859,\n",
              " (8000, 10): 0.6106261799105481,\n",
              " (8000, 11): 0.5958294556899217,\n",
              " (8000, 12): 0.5890560618841839,\n",
              " (8000, 13): 0.603359294835635,\n",
              " (8000, 14): 0.6142945294850034,\n",
              " (8000, 15): 0.5610510798675801,\n",
              " (10000, 4): 0.624658445785709,\n",
              " (10000, 5): 0.5940143470060136,\n",
              " (10000, 6): 0.6464137825917659,\n",
              " (10000, 7): 0.6356726890921814,\n",
              " (10000, 8): 0.5403133109025686,\n",
              " (10000, 9): 0.5781592448136837,\n",
              " (10000, 10): 0.6004414909242484,\n",
              " (10000, 11): 0.5903750616002323,\n",
              " (10000, 12): 0.5589789680344498,\n",
              " (10000, 13): 0.5575120160286753,\n",
              " (10000, 14): 0.6060398628490878,\n",
              " (10000, 15): 0.5463394880103567,\n",
              " (20000, 4): 0.6294012120422504,\n",
              " (20000, 5): 0.6649463146120239,\n",
              " (20000, 6): 0.6579280458143777,\n",
              " (20000, 7): 0.642927359498579,\n",
              " (20000, 8): 0.6290553117700957,\n",
              " (20000, 9): 0.5806418191080395,\n",
              " (20000, 10): 0.5828807994498071,\n",
              " (20000, 11): 0.5298373709372609,\n",
              " (20000, 12): 0.549058606960042,\n",
              " (20000, 13): 0.5598034795113868,\n",
              " (20000, 14): 0.5536777024228207,\n",
              " (20000, 15): 0.6030096426924927,\n",
              " (40000, 4): 0.6296172613832923,\n",
              " (40000, 5): 0.6098483522713495,\n",
              " (40000, 6): 0.6461292362327068,\n",
              " (40000, 7): 0.6531114702023072,\n",
              " (40000, 8): 0.6277564495681436,\n",
              " (40000, 9): 0.6215816937102477,\n",
              " (40000, 10): 0.6273585796143619,\n",
              " (40000, 11): 0.618936645975483,\n",
              " (40000, 12): 0.5993072609072223,\n",
              " (40000, 13): 0.5592859874896453,\n",
              " (40000, 14): 0.6050349595385374,\n",
              " (40000, 15): 0.5690681620879793,\n",
              " (60000, 4): 0.627184450384242,\n",
              " (60000, 5): 0.6122127197673389,\n",
              " (60000, 6): 0.6502022649132038,\n",
              " (60000, 7): 0.6244969319713232,\n",
              " (60000, 8): 0.5874043752275245,\n",
              " (60000, 9): 0.579783504566488,\n",
              " (60000, 10): 0.5646301329618854,\n",
              " (60000, 11): 0.6010084588733289,\n",
              " (60000, 12): 0.5551522826752837,\n",
              " (60000, 13): 0.4980996390204257,\n",
              " (60000, 14): 0.52825589216585,\n",
              " (60000, 15): 0.5677787517367056,\n",
              " (80000, 4): 0.6300114128291275,\n",
              " (80000, 5): 0.6121317911333495,\n",
              " (80000, 6): 0.6552282581004601,\n",
              " (80000, 7): 0.6037728152876859,\n",
              " (80000, 8): 0.6124845791363159,\n",
              " (80000, 9): 0.6073003658596599,\n",
              " (80000, 10): 0.5958786056379334,\n",
              " (80000, 11): 0.6071956037576836,\n",
              " (80000, 12): 0.5357824090755586,\n",
              " (80000, 13): 0.6005038912689001,\n",
              " (80000, 14): 0.5767175617872148,\n",
              " (80000, 15): 0.5887514638917586,\n",
              " (100000, 4): 0.632968365116318,\n",
              " (100000, 5): 0.6110845767020736,\n",
              " (100000, 6): 0.6682804789698401,\n",
              " (100000, 7): 0.6555853142497178,\n",
              " (100000, 8): 0.6293518873204822,\n",
              " (100000, 9): 0.6230274480853593,\n",
              " (100000, 10): 0.6222487036894443,\n",
              " (100000, 11): 0.6047501001973852,\n",
              " (100000, 12): 0.5880961339386396,\n",
              " (100000, 13): 0.5824705585895857,\n",
              " (100000, 14): 0.5989328641139887,\n",
              " (100000, 15): 0.48267110460077217}"
            ]
          },
          "metadata": {},
          "execution_count": 7
        }
      ]
    },
    {
      "cell_type": "code",
      "source": [
        "vectorizer = getVectorizer(400)\n",
        "sparseMatrix = vectorizer.fit_transform(tData)\n",
        "processedData = lsa.fit_transform(sparseMatrix)\n",
        "\n",
        "kmb = MiniBatchKMeans(n_clusters=11, random_state = 0)\n",
        "kmb.fit(processedData)\n",
        "\n",
        "x = [x for x,y in processedData]\n",
        "y = [y for x,y in processedData]\n",
        "\n",
        "kMDict = createDict(kmb.labels_)\n",
        "\n",
        "col_dict = {0:'green', 1:'blue', 2:'purple',3:'orange',4:'red',5:'cyan',6:'slategrey',7:'black',8: 'lime', 9:'magenta', 10:'olive'}\n",
        "cols = [col_dict[l] for l in kmb.labels_]\n",
        "plt.figure(figsize=(16,12))\n",
        "plt.scatter(x,y, c=cols, s=100, alpha=.65)\n",
        "\n",
        "plt.xlabel('LSA1')\n",
        "plt.ylabel('LSA2')\n",
        "plt.title(\"K Means Clustering Results of 71 Music albums in the space of LSA\".format(20))\n",
        "plt.show()\n",
        "\n",
        "kMDict"
      ],
      "metadata": {
        "colab": {
          "base_uri": "https://localhost:8080/",
          "height": 1000
        },
        "id": "0Rj1JpkSrhCB",
        "outputId": "fd9408c5-4d1b-44a3-e600-f948679be842"
      },
      "execution_count": 8,
      "outputs": [
        {
          "output_type": "display_data",
          "data": {
            "image/png": "[encoded data removed]",
            "text/plain": [
              "<Figure size 1152x864 with 1 Axes>"
            ]
          },
          "metadata": {
            "needs_background": "light"
          }
        },
        {
          "output_type": "execute_result",
          "data": {
            "text/plain": [
              "{0: ['Acdc Back In Black',\n",
              "  'Acdc Dirty Deeds Done Dirt Cheap',\n",
              "  'Billie Eilish Happier Than Ever',\n",
              "  'Adele 25',\n",
              "  'Charli Xcx Charli',\n",
              "  'Limp Bizkit Significant Other',\n",
              "  'Britney Spears Oops I Did It Again',\n",
              "  'Kesha Warrior',\n",
              "  'Rina Sawayama Sawayama',\n",
              "  'Ariana Grande Dangerous Woman'],\n",
              " 1: ['Behemoth The Satanist',\n",
              "  'Death Grips The Money Store',\n",
              "  'Tyler The Creator Igor',\n",
              "  'Ozzy Osbourne Speak Of The Devil',\n",
              "  'Neutral Milk Aeroplane Over The Sea',\n",
              "  'Olivia Rodrigo Sour',\n",
              "  'Prince Purple Rain',\n",
              "  'Turnstile Glow On',\n",
              "  'Elliot Smith Figure 8'],\n",
              " 2: ['Beatles Sgt Pepper',\n",
              "  'Michael Buble Christmas',\n",
              "  'Imagine Dragons Night Visions',\n",
              "  'Ed Sheeran +',\n",
              "  'Metallica The Black Album',\n",
              "  'Judas Priest Defenders Of Faith',\n",
              "  'The Smiths The Smiths',\n",
              "  'Fleetwood Mac Then Play On',\n",
              "  'Sam Smith The Thrill Of It All',\n",
              "  'The Beach Boys Little Deuce Coupe'],\n",
              " 3: ['Baby Keem Die For My Bitch',\n",
              "  'Lil Tecca We Love You Tecca',\n",
              "  'Injury Reserve By The Time I Get To Phoenix'],\n",
              " 4: ['Drake Scorpion',\n",
              "  'Drake More Life',\n",
              "  'Drake Views',\n",
              "  'Danny Brown Atrocity Exhibition',\n",
              "  'Anderson Paak Oxnard',\n",
              "  'Outkast Aquemini'],\n",
              " 5: ['Beatles With The Beatles',\n",
              "  'Greenday American Idiot',\n",
              "  'Nirvana In Utero',\n",
              "  'Elton John Blue Moves',\n",
              "  'Amy Winehouse Back To Black',\n",
              "  'The Eagles Hotel California',\n",
              "  'David Bowie Blackstar',\n",
              "  'Linkin Park Hybrid Theory'],\n",
              " 6: ['Beatles White Album',\n",
              "  'Gorillaz Demon Days',\n",
              "  'Tame Impala Currents',\n",
              "  'Niki Moonchild',\n",
              "  'Chris Stapleton Starting Over',\n",
              "  'The Doors Strange Days',\n",
              "  'Radiohead In Rainbows',\n",
              "  'The Strokes Room On Fire',\n",
              "  'Taylor Swift Folklore'],\n",
              " 7: ['Kanye Graduation',\n",
              "  'Kanye College Dropout',\n",
              "  'Eminem The Marshall Mathers Lp',\n",
              "  'Wu Tang Clan Enter The Wutang',\n",
              "  'Rich Brian Amen'],\n",
              " 8: ['Bastille Bad Blood'],\n",
              " 9: ['Big Sean Dark Sky Paradise',\n",
              "  'Soulja Boy Souljaboytellem Com',\n",
              "  'Future Hndrxx',\n",
              "  'Xxxtentacion Question Mark',\n",
              "  'Amine Twopointfive'],\n",
              " 10: ['Acdc Blow Up Your Video',\n",
              "  'Kanye Late Registration',\n",
              "  'Eminem Slim Shady Lp',\n",
              "  'Eminem The Eminem Show',\n",
              "  'Jaden Smith Syre']}"
            ]
          },
          "metadata": {},
          "execution_count": 8
        }
      ]
    },
    {
      "cell_type": "markdown",
      "source": [
        "###Gaussian Mixture"
      ],
      "metadata": {
        "id": "7xIphQnnvtZO"
      }
    },
    {
      "cell_type": "code",
      "source": [
        "#Tuning Parameters\n",
        "sDict = {}\n",
        "for i in [200,400,600,800,1000,2000,4000,6000,8000,10000,20000,40000,60000,80000,100000]:\n",
        "  vectorizer = getVectorizer(i)\n",
        "  sparseMatrix = vectorizer.fit_transform(tData)\n",
        "  processedData = lsa.fit_transform(sparseMatrix)\n",
        "  for j in [4,5,6,7,8,9,10,11,12,13,14,15]:\n",
        "    gm = GaussianMixture(n_components=j, random_state = 0)\n",
        "    gm.fit(processedData)\n",
        "    gmLabels = gm.predict(processedData)\n",
        "    sDict[(i,j)] = metrics.silhouette_score(processedData, gmLabels, metric = \"euclidean\")\n",
        "\n",
        "print(max(list(sDict.values()))) # best results were 4000 features extracted and 5 categories\n",
        "sDict\n"
      ],
      "metadata": {
        "colab": {
          "base_uri": "https://localhost:8080/"
        },
        "id": "MHgmd_WBwRVK",
        "outputId": "598ce73f-4d11-444e-8ec3-aa0fbc5e8273"
      },
      "execution_count": 9,
      "outputs": [
        {
          "output_type": "stream",
          "name": "stdout",
          "text": [
            "0.6768324649695328\n"
          ]
        },
        {
          "output_type": "execute_result",
          "data": {
            "text/plain": [
              "{(200, 4): 0.6329339281869388,\n",
              " (200, 5): 0.586464890595535,\n",
              " (200, 6): 0.6054534366849346,\n",
              " (200, 7): 0.6213465952388718,\n",
              " (200, 8): 0.5715223586792639,\n",
              " (200, 9): 0.6137915223960037,\n",
              " (200, 10): 0.6345740079891021,\n",
              " (200, 11): 0.6485773232506453,\n",
              " (200, 12): 0.6431756859886687,\n",
              " (200, 13): 0.6540544393724508,\n",
              " (200, 14): 0.6408321687397388,\n",
              " (200, 15): 0.6274708206892288,\n",
              " (400, 4): 0.6462022267461509,\n",
              " (400, 5): 0.5991131739949722,\n",
              " (400, 6): 0.565938621595474,\n",
              " (400, 7): 0.6193773896520051,\n",
              " (400, 8): 0.5917127771514205,\n",
              " (400, 9): 0.6043088422810379,\n",
              " (400, 10): 0.6366713990955679,\n",
              " (400, 11): 0.675714201117095,\n",
              " (400, 12): 0.6740532522764711,\n",
              " (400, 13): 0.665638952404552,\n",
              " (400, 14): 0.6549881868551692,\n",
              " (400, 15): 0.6684112779939254,\n",
              " (600, 4): 0.628851008139606,\n",
              " (600, 5): 0.5788914804649062,\n",
              " (600, 6): 0.5800194869189785,\n",
              " (600, 7): 0.6008422314436914,\n",
              " (600, 8): 0.6449025984387157,\n",
              " (600, 9): 0.6239910744221581,\n",
              " (600, 10): 0.6379659096131077,\n",
              " (600, 11): 0.6441616689551136,\n",
              " (600, 12): 0.6632376278887061,\n",
              " (600, 13): 0.6528558882719125,\n",
              " (600, 14): 0.6467792605231928,\n",
              " (600, 15): 0.6417628945216708,\n",
              " (800, 4): 0.6406609601788287,\n",
              " (800, 5): 0.6317930076503954,\n",
              " (800, 6): 0.6301839885436946,\n",
              " (800, 7): 0.620267697707861,\n",
              " (800, 8): 0.6545001590739581,\n",
              " (800, 9): 0.6665388244027465,\n",
              " (800, 10): 0.6119736885367328,\n",
              " (800, 11): 0.5942314624612745,\n",
              " (800, 12): 0.5923087065657674,\n",
              " (800, 13): 0.610501028490222,\n",
              " (800, 14): 0.6022597461013406,\n",
              " (800, 15): 0.5899747056482899,\n",
              " (1000, 4): 0.6163107160720992,\n",
              " (1000, 5): 0.6357150921646454,\n",
              " (1000, 6): 0.6362057631190134,\n",
              " (1000, 7): 0.6025591396084112,\n",
              " (1000, 8): 0.6120089671364538,\n",
              " (1000, 9): 0.5957806459262784,\n",
              " (1000, 10): 0.6030419532639334,\n",
              " (1000, 11): 0.6014883108650539,\n",
              " (1000, 12): 0.6321917513568346,\n",
              " (1000, 13): 0.6411197338963718,\n",
              " (1000, 14): 0.6387999608577705,\n",
              " (1000, 15): 0.6425890858319951,\n",
              " (2000, 4): 0.6667860363013318,\n",
              " (2000, 5): 0.6200986944291317,\n",
              " (2000, 6): 0.6290883976177855,\n",
              " (2000, 7): 0.6741388793335623,\n",
              " (2000, 8): 0.6553677310514375,\n",
              " (2000, 9): 0.654696083551362,\n",
              " (2000, 10): 0.6234163785625378,\n",
              " (2000, 11): 0.6083230039214691,\n",
              " (2000, 12): 0.5661212319716228,\n",
              " (2000, 13): 0.5921266259218744,\n",
              " (2000, 14): 0.6081363114968773,\n",
              " (2000, 15): 0.6198595422733321,\n",
              " (4000, 4): 0.6526831862259516,\n",
              " (4000, 5): 0.6768324649695328,\n",
              " (4000, 6): 0.6130874338445835,\n",
              " (4000, 7): 0.6262532442520947,\n",
              " (4000, 8): 0.6619171446032589,\n",
              " (4000, 9): 0.6357689264932507,\n",
              " (4000, 10): 0.5964273006797749,\n",
              " (4000, 11): 0.5970573978045602,\n",
              " (4000, 12): 0.5966497561178512,\n",
              " (4000, 13): 0.6122514818831937,\n",
              " (4000, 14): 0.6140679461037726,\n",
              " (4000, 15): 0.6415643372629471,\n",
              " (6000, 4): 0.663384692821527,\n",
              " (6000, 5): 0.6711028236361546,\n",
              " (6000, 6): 0.6761535869291064,\n",
              " (6000, 7): 0.6469000672133763,\n",
              " (6000, 8): 0.6065943343350836,\n",
              " (6000, 9): 0.5597734736006564,\n",
              " (6000, 10): 0.5720053934778313,\n",
              " (6000, 11): 0.5789515574038481,\n",
              " (6000, 12): 0.60299857633171,\n",
              " (6000, 13): 0.5927830444961216,\n",
              " (6000, 14): 0.6017043763866603,\n",
              " (6000, 15): 0.6422320943079532,\n",
              " (8000, 4): 0.64832046946325,\n",
              " (8000, 5): 0.6693121552485847,\n",
              " (8000, 6): 0.6441598839605521,\n",
              " (8000, 7): 0.6330990672327611,\n",
              " (8000, 8): 0.6192568011381085,\n",
              " (8000, 9): 0.6059403971609318,\n",
              " (8000, 10): 0.5918932623025682,\n",
              " (8000, 11): 0.5867638630869778,\n",
              " (8000, 12): 0.5826637089637937,\n",
              " (8000, 13): 0.574548303432719,\n",
              " (8000, 14): 0.6250835068016218,\n",
              " (8000, 15): 0.624706067545866,\n",
              " (10000, 4): 0.6691575592508411,\n",
              " (10000, 5): 0.6277884308862328,\n",
              " (10000, 6): 0.6464137825917659,\n",
              " (10000, 7): 0.5968338636959467,\n",
              " (10000, 8): 0.6301804998053644,\n",
              " (10000, 9): 0.6121478116763767,\n",
              " (10000, 10): 0.6048993026841638,\n",
              " (10000, 11): 0.6041233253327881,\n",
              " (10000, 12): 0.5961630544865899,\n",
              " (10000, 13): 0.6014107290940172,\n",
              " (10000, 14): 0.5989743729398624,\n",
              " (10000, 15): 0.6125654542490575,\n",
              " (20000, 4): 0.6426171017684743,\n",
              " (20000, 5): 0.6501840875710753,\n",
              " (20000, 6): 0.6575825083934523,\n",
              " (20000, 7): 0.6443472425460856,\n",
              " (20000, 8): 0.6391251051540563,\n",
              " (20000, 9): 0.6340699849281929,\n",
              " (20000, 10): 0.5841101371368033,\n",
              " (20000, 11): 0.571563142290118,\n",
              " (20000, 12): 0.5680810469412624,\n",
              " (20000, 13): 0.5954710860965422,\n",
              " (20000, 14): 0.582726446751949,\n",
              " (20000, 15): 0.6014823420345241,\n",
              " (40000, 4): 0.6440426439055791,\n",
              " (40000, 5): 0.661565517774019,\n",
              " (40000, 6): 0.6563613503123062,\n",
              " (40000, 7): 0.5848466635125167,\n",
              " (40000, 8): 0.6377250147034498,\n",
              " (40000, 9): 0.6235284036261406,\n",
              " (40000, 10): 0.5646893343948624,\n",
              " (40000, 11): 0.5822220143599052,\n",
              " (40000, 12): 0.5746702619415069,\n",
              " (40000, 13): 0.595218474856337,\n",
              " (40000, 14): 0.5777939338205262,\n",
              " (40000, 15): 0.5924793490602814,\n",
              " (60000, 4): 0.647344296537405,\n",
              " (60000, 5): 0.6519125590285298,\n",
              " (60000, 6): 0.6189837961572123,\n",
              " (60000, 7): 0.6415923901156744,\n",
              " (60000, 8): 0.5538686840610484,\n",
              " (60000, 9): 0.5988792564237546,\n",
              " (60000, 10): 0.566458788689112,\n",
              " (60000, 11): 0.5683416053222378,\n",
              " (60000, 12): 0.5769010592664608,\n",
              " (60000, 13): 0.5711741394189028,\n",
              " (60000, 14): 0.5669530329137614,\n",
              " (60000, 15): 0.5474054423845411,\n",
              " (80000, 4): 0.6444051580559917,\n",
              " (80000, 5): 0.6531263449873909,\n",
              " (80000, 6): 0.5705639412484637,\n",
              " (80000, 7): 0.6428277324149493,\n",
              " (80000, 8): 0.5863338406530966,\n",
              " (80000, 9): 0.5856388792892822,\n",
              " (80000, 10): 0.5605943215718943,\n",
              " (80000, 11): 0.5557721082597878,\n",
              " (80000, 12): 0.5722344757300442,\n",
              " (80000, 13): 0.5597619298268293,\n",
              " (80000, 14): 0.5729913842791287,\n",
              " (80000, 15): 0.5941582146565132,\n",
              " (100000, 4): 0.6289724439642636,\n",
              " (100000, 5): 0.6690136838469684,\n",
              " (100000, 6): 0.6720275623391668,\n",
              " (100000, 7): 0.6429730172321619,\n",
              " (100000, 8): 0.5906080151985426,\n",
              " (100000, 9): 0.5626244192701472,\n",
              " (100000, 10): 0.5448993642023922,\n",
              " (100000, 11): 0.5742049250635348,\n",
              " (100000, 12): 0.5787235078506863,\n",
              " (100000, 13): 0.5908969628042878,\n",
              " (100000, 14): 0.595002005422137,\n",
              " (100000, 15): 0.6121427564133328}"
            ]
          },
          "metadata": {},
          "execution_count": 9
        }
      ]
    },
    {
      "cell_type": "code",
      "source": [
        "vectorizer = getVectorizer(4000)\n",
        "sparseMatrix = vectorizer.fit_transform(tData)\n",
        "processedData = lsa.fit_transform(sparseMatrix)\n",
        "\n",
        "gm = GaussianMixture(n_components=5, random_state = 0)\n",
        "gm.fit(processedData)\n",
        "gmLabels = gm.predict(processedData)\n",
        "\n",
        "x = [x for x,y in processedData]\n",
        "y = [y for x,y in processedData]\n",
        "\n",
        "gMDict = createDict(gmLabels)\n",
        "\n",
        "col_dict = {0:'green', 1:'blue', 2:'purple',3:'orange',4:'red',5:'cyan',6:'slategrey',7:'black',8: 'lime', 9:'magenta', 10:'olive'}\n",
        "cols = [col_dict[l] for l in gmLabels]\n",
        "plt.figure(figsize=(16,12))\n",
        "plt.scatter(x,y, c=cols, s=100, alpha=.65)\n",
        "\n",
        "plt.xlabel('LSA1')\n",
        "plt.ylabel('LSA2')\n",
        "plt.title(\"Gaussian Matrix Clustering Results of 71 Music albums in the space of LSA\".format(20))\n",
        "plt.show()\n",
        "\n",
        "gMDict"
      ],
      "metadata": {
        "colab": {
          "base_uri": "https://localhost:8080/",
          "height": 1000
        },
        "id": "qloOa2dIpnIA",
        "outputId": "b2d9be1b-0f04-4b0e-9484-be5849fa43a8"
      },
      "execution_count": 10,
      "outputs": [
        {
          "output_type": "display_data",
          "data": {
            "image/png": "[encoded data removed]",
            "text/plain": [
              "<Figure size 1152x864 with 1 Axes>"
            ]
          },
          "metadata": {
            "needs_background": "light"
          }
        },
        {
          "output_type": "execute_result",
          "data": {
            "text/plain": [
              "{0: ['Beatles With The Beatles',\n",
              "  'Greenday American Idiot',\n",
              "  'Nirvana In Utero',\n",
              "  'Adele 25',\n",
              "  'Gorillaz Demon Days',\n",
              "  'Elton John Blue Moves',\n",
              "  'Tame Impala Currents',\n",
              "  'Niki Moonchild',\n",
              "  'Amy Winehouse Back To Black',\n",
              "  'The Eagles Hotel California',\n",
              "  'David Bowie Blackstar',\n",
              "  'The Doors Strange Days',\n",
              "  'Radiohead In Rainbows',\n",
              "  'The Strokes Room On Fire',\n",
              "  'Linkin Park Hybrid Theory',\n",
              "  'Taylor Swift Folklore',\n",
              "  'Fleetwood Mac Then Play On',\n",
              "  'The Beach Boys Little Deuce Coupe'],\n",
              " 1: ['Behemoth The Satanist',\n",
              "  'Death Grips The Money Store',\n",
              "  'Tyler The Creator Igor',\n",
              "  'Ozzy Osbourne Speak Of The Devil',\n",
              "  'Neutral Milk Aeroplane Over The Sea',\n",
              "  'Olivia Rodrigo Sour',\n",
              "  'Prince Purple Rain',\n",
              "  'Turnstile Glow On',\n",
              "  'Elliot Smith Figure 8'],\n",
              " 2: ['Kanye Graduation',\n",
              "  'Drake Scorpion',\n",
              "  'Drake More Life',\n",
              "  'Drake Views',\n",
              "  'Kanye Late Registration',\n",
              "  'Kanye College Dropout',\n",
              "  'Eminem Slim Shady Lp',\n",
              "  'Eminem The Marshall Mathers Lp',\n",
              "  'Eminem The Eminem Show',\n",
              "  'Danny Brown Atrocity Exhibition',\n",
              "  'Big Sean Dark Sky Paradise',\n",
              "  'Soulja Boy Souljaboytellem Com',\n",
              "  'Future Hndrxx',\n",
              "  'Anderson Paak Oxnard',\n",
              "  'Xxxtentacion Question Mark',\n",
              "  'Outkast Aquemini',\n",
              "  'Wu Tang Clan Enter The Wutang',\n",
              "  'Baby Keem Die For My Bitch',\n",
              "  'Rich Brian Amen',\n",
              "  'Amine Twopointfive',\n",
              "  'Lil Tecca We Love You Tecca',\n",
              "  'Injury Reserve By The Time I Get To Phoenix'],\n",
              " 3: ['Beatles Sgt Pepper',\n",
              "  'Michael Buble Christmas',\n",
              "  'Imagine Dragons Night Visions',\n",
              "  'Ed Sheeran +',\n",
              "  'Bastille Bad Blood',\n",
              "  'Metallica The Black Album',\n",
              "  'Judas Priest Defenders Of Faith',\n",
              "  'The Smiths The Smiths',\n",
              "  'Sam Smith The Thrill Of It All'],\n",
              " 4: ['Acdc Blow Up Your Video',\n",
              "  'Acdc Back In Black',\n",
              "  'Acdc Dirty Deeds Done Dirt Cheap',\n",
              "  'Beatles White Album',\n",
              "  'Billie Eilish Happier Than Ever',\n",
              "  'Charli Xcx Charli',\n",
              "  'Chris Stapleton Starting Over',\n",
              "  'Limp Bizkit Significant Other',\n",
              "  'Britney Spears Oops I Did It Again',\n",
              "  'Kesha Warrior',\n",
              "  'Jaden Smith Syre',\n",
              "  'Rina Sawayama Sawayama',\n",
              "  'Ariana Grande Dangerous Woman']}"
            ]
          },
          "metadata": {},
          "execution_count": 10
        }
      ]
    }
  ]
}